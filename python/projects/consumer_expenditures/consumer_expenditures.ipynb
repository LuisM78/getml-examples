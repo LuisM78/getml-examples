{
 "cells": [
  {
   "cell_type": "markdown",
   "metadata": {},
   "source": [
    "# Why relational learning matters\n",
    "\n",
    "The main purpose of this notebook is to demonstrate how powerful **relational learning** can be.\n",
    "\n",
    "Relational learning is one of the most **underappreciated fields of machine learning**. Even though relational learning is very **relevant to many real world data science projects**, many data scientists don't even know what relational learning is. \n",
    "\n",
    "There are many subdomains of relational learning, but the most important one is **extracting features from relational data**: Most business data is **relational**, meaning that it is spread out over **several relational tables**. However, most machine learning algorithms require that the data be presented in the form of a single flat table. So we need to extract features from our relational data. Some people also call this **data wrangling**.\n",
    "\n",
    "Most data scientists we know extract features from relational data manually or by using crude, brute-force approaches (randomly generate thousands of features and then do a feature selection). This is very time-consuming and does not produce good features.\n",
    "\n",
    "This example demonstrates how powerful a real relational learning algorithm can be. Based on a public-domain dataset on consumer behavior, we use a **relational boosting algorithm** to predict whether purchases were **made as a gift**. We show that with relational learning, we can get an **AUC of over 90%**. The generated features would have been **impossible to build by hand** or by using brute-force approaches.\n",
    "\n",
    "This notebook is **self-contained**. You can just run it to reproduce our results. You will need **getML** in order to do so.\n",
    "You can **download it for free**:\n",
    "\n",
    "https://getml.com/product\n",
    "\n",
    "If you want to learn more, about getML, check out the **official documentation**:\n",
    "\n",
    "https://docs.getml.com/latest/index.html\n",
    "\n",
    "## The challenge\n",
    "\n",
    "The **Consumer Expenditure Data Set** is a public domain data set provided by the American Bureau of Labor Statistics (https://www.bls.gov/cex/pumd.htm). It includes the **diary entries**, where American consumers are asked to keep diaries of the products they have purchased each month.\n",
    "\n",
    "These consumer goods are categorized using a **six-digit classification system** the **UCC**. This system is hierarchical, meaning that **every digit represents an increasingly granular category**.\n",
    "\n",
    "For instance, all UCC codes beginning with **‘200’ represent beverages**. UCC codes beginning with **‘20011’ represents beer** and **‘200111’ represents ‘beer and ale’** and ‘200112’ represents ‘nonalcoholic beer’ (https://www.bls.gov/cex/pumd/ce_pumd_interview_diary_dictionary.xlsx).\n",
    "\n",
    "The diaries also contain a flag that indicates whether the product was purchased as a gift. The challenge is to predict that flag using other information in the diary entries.\n",
    "\n",
    "This can be done based on the following considerations:\n",
    "\n",
    "1. Some items are **less likely to be purchased as gifts** than others (for instance, it is unlikely that toilet paper is ever purchased as a gift).\n",
    "\n",
    "2. Items that diverge from the **usual consumption patterns** are more likely to be gifts.\n",
    "\n",
    "In total, there are three tables which we find interesting:\n",
    "\n",
    "1. EXPD, which contains information on the **consumer expenditures**, including the target variable GIFT.\n",
    "\n",
    "2. FMLD, which contains socio-demographic information on the **households**.\n",
    "\n",
    "3. MEMD, which contains socio-demographic information on each **member of the households**.\n"
   ]
  },
  {
   "cell_type": "code",
   "execution_count": 1,
   "metadata": {},
   "outputs": [],
   "source": [
    "import datetime\n",
    "import os\n",
    "from urllib import request\n",
    "import time\n",
    "import zipfile\n",
    "\n",
    "from getml import data \n",
    "from getml import engine \n",
    "from getml.models import loss_functions\n",
    "from getml import models \n",
    "from getml.data import placeholder\n",
    "from getml.data import roles \n",
    "from getml import predictors"
   ]
  },
  {
   "cell_type": "markdown",
   "metadata": {},
   "source": [
    "## Getting the data\n",
    "\n",
    "First, we need to **download and unzip** the data. For your convenience, we have scripted this.\n",
    "\n",
    "If you want to download them manually, you can use this link: https://www.bls.gov/cex/pumd.htm.\n",
    "\n",
    "We will use the diary CSV files for the year 2015. There are more years you can use, but we will limit ourselves to this one year for now."
   ]
  },
  {
   "cell_type": "code",
   "execution_count": 20,
   "metadata": {},
   "outputs": [],
   "source": [
    "fname = \"diary15.zip\"\n",
    "\n",
    "if not os.path.exists(fname):\n",
    "    fname, res = request.urlretrieve(\n",
    "        \"https://www.bls.gov/cex/pumd/data/comma/diary15.zip\", \n",
    "        \"diary15.zip\"\n",
    "    )\n",
    "\n",
    "RAW_DATA_FOLDER = \"diary15/\"\n",
    "\n",
    "if not os.path.exists(RAW_DATA_FOLDER):\n",
    "    with zipfile.ZipFile(fname, 'r') as dzip: \n",
    "        dzip.extractall() "
   ]
  },
  {
   "cell_type": "markdown",
   "metadata": {},
   "source": [
    "We now set the project.\n",
    "\n",
    "In getML, every data frame and model is **tied to a project**. If you change the project, then the memory is flushed and all unsaved changes are lost (but don't worry, models are saved automatically)."
   ]
  },
  {
   "cell_type": "code",
   "execution_count": 4,
   "metadata": {},
   "outputs": [
    {
     "name": "stdout",
     "output_type": "stream",
     "text": [
      "Creating new project 'consumer-expenditure-notebook'\n"
     ]
    }
   ],
   "source": [
    "engine.set_project(\"consumer-expenditure-notebook\")"
   ]
  },
  {
   "cell_type": "markdown",
   "metadata": {},
   "source": [
    "## Loading the data\n",
    "\n",
    "We load the data directly into getML data frames. There are other ways to do this, such as using pandas or loading the data into a data base first. But we will us this approach."
   ]
  },
  {
   "cell_type": "code",
   "execution_count": 5,
   "metadata": {},
   "outputs": [],
   "source": [
    "# -----------------------------------------------------------------------------\n",
    "# Load EXPD\n",
    "\n",
    "expd_fnames = [\n",
    "    RAW_DATA_FOLDER + \"expd151.csv\",\n",
    "    RAW_DATA_FOLDER + \"expd152.csv\",\n",
    "    RAW_DATA_FOLDER + \"expd153.csv\",\n",
    "    RAW_DATA_FOLDER + \"expd154.csv\"\n",
    "]\n",
    "\n",
    "# The sniffer will interpret NEWID and UCC\n",
    "# as a numeric column. But we want it\n",
    "# to be treated as a string.\n",
    "expd_roles = {\"unused_string\": [\"UCC\", \"NEWID\"]}\n",
    "\n",
    "df_expd = data.DataFrame.from_csv(\n",
    "    fnames=expd_fnames,\n",
    "    name=\"EXPD\",\n",
    "    roles=expd_roles\n",
    ")\n",
    "\n",
    "# -----------------------------------------------------------------------------\n",
    "# Load FMLD\n",
    "\n",
    "fmld_fnames = [\n",
    "    RAW_DATA_FOLDER + \"fmld151.csv\",\n",
    "    RAW_DATA_FOLDER + \"fmld152.csv\",\n",
    "    RAW_DATA_FOLDER + \"fmld153.csv\",\n",
    "    RAW_DATA_FOLDER + \"fmld154.csv\"\n",
    "]\n",
    "\n",
    "# The sniffer will interpret NEWID\n",
    "# as a numeric column. But we want it\n",
    "# to be treated as a string.\n",
    "fmld_roles = {\"unused_string\": [\"NEWID\"]}\n",
    "\n",
    "df_fmld = data.DataFrame.from_csv(\n",
    "    fnames=fmld_fnames,\n",
    "    name=\"FMLD\",\n",
    "    roles=fmld_roles\n",
    ")\n",
    "\n",
    "# -----------------------------------------------------------------------------\n",
    "# Load MEMD\n",
    "\n",
    "memd_fnames = [\n",
    "    RAW_DATA_FOLDER + \"memd151.csv\",\n",
    "    RAW_DATA_FOLDER + \"memd152.csv\",\n",
    "    RAW_DATA_FOLDER + \"memd153.csv\",\n",
    "    RAW_DATA_FOLDER + \"memd154.csv\"\n",
    "]\n",
    "\n",
    "# The sniffer will interpret NEWID\n",
    "# as a numeric column. But we want it\n",
    "# to be treated as a string.\n",
    "memd_roles = {\"unused_string\": [\"NEWID\"]}\n",
    "\n",
    "df_memd = data.DataFrame.from_csv(\n",
    "    fnames=memd_fnames,\n",
    "    name=\"MEMD\",\n",
    "    roles=memd_roles\n",
    ")"
   ]
  },
  {
   "cell_type": "markdown",
   "metadata": {},
   "source": [
    "When we check out the data frames view in the **getML monitor**, we should now already be able to see the data frames we have just loaded.\n",
    "\n",
    "![alt text](data-frames-view.png \"data frames view\")"
   ]
  },
  {
   "cell_type": "markdown",
   "metadata": {},
   "source": [
    "## Data exploration\n",
    "\n",
    "The first thing we want to do is to define the target.\n",
    "\n",
    "Strangely enough, the \"GIFT\" column we want to predict is encoded into 1 for gift and 2 for no gift. We want to turn that into a binary column."
   ]
  },
  {
   "cell_type": "code",
   "execution_count": 6,
   "metadata": {},
   "outputs": [],
   "source": [
    "target = (df_expd[\"GIFT\"] == 1)\n",
    "\n",
    "df_expd.add(target, \"TARGET\", roles.target)"
   ]
  },
  {
   "cell_type": "markdown",
   "metadata": {},
   "source": [
    "We will also turn the \"EXPNMO\" column into a numerical value (the CSV sniffer has interpreted it as a string, because of missing values)."
   ]
  },
  {
   "cell_type": "code",
   "execution_count": 7,
   "metadata": {},
   "outputs": [],
   "source": [
    "df_expd.set_role(\"EXPNMO\", roles.numerical)"
   ]
  },
  {
   "cell_type": "markdown",
   "metadata": {},
   "source": [
    "Now its time for some data exploration. In the getML monitor, we click on \"EXPD\" in the \"Data Frames\" table. We then click on the \"UCC\" header or the little magnifying glass below. We have now reached the column view for UCC.\n",
    "\n",
    "In the \"Settings\" card on the bottom right, we can choose to plot the UCC against the TARGET.\n",
    "\n",
    "![alt text](ucc-vs-target.png \"UCC vs TARGET\")\n",
    "\n",
    "These two plots tell us two things:\n",
    "\n",
    "The \"Frequency\" plot tells us that the UCC codes are **not evenly distributed**. Some categories of items are purchased far more frequently than others.\n",
    "\n",
    "The \"UCC vs. TARGET\" plot tells us that some categories of items are **far more likely to be purchased as gift**. The range is between 60% for some items to 0% for others. In other words, knowing the item's UCC will already get us pretty far towards predicting whether it has been purchased as a gift.\n",
    "\n",
    "Let's look at something else, which is sort of fun:\n",
    "\n",
    "![alt text](expnmo-vs-target.png \"EXPNMO vs TARGET\")\n",
    "\n",
    "As we mentioned earlier, EXPNMO is the month the expenditure was made. These two plots tell us two things:\n",
    "\n",
    "The \"Frequency\" plot tells us that the number of expenditures is **pretty evenly distributed** over the year.\n",
    "\n",
    "The \"EXPNMO vs. TARGET\" plot tells us that **purchases made in December are far more likely to be gifts** (almost 5% for December, roughly 2% for all other months)."
   ]
  },
  {
   "cell_type": "markdown",
   "metadata": {},
   "source": [
    "## Annotating the columns\n",
    "\n",
    "We now want to annotate the data in EXPD. We have already done so for \"EXPNMO\" and our target variable, but we want to do the same for other columns as well.\n",
    "\n",
    "Specifically, we will assign **roles** and **units** to the columns. To learn more about roles and units, check out the **documentation**:\n",
    "\n",
    "https://docs.getml.com/latest/user_guide/annotating_data/annotating_data.html\n",
    "\n",
    "### EXPD"
   ]
  },
  {
   "cell_type": "code",
   "execution_count": 8,
   "metadata": {},
   "outputs": [],
   "source": [
    "# -----------------------------------------------------------------------------\n",
    "# Make EXPNYR and COST numerical columns\n",
    "\n",
    "df_expd.set_role([\"EXPNYR\", \"COST\"], roles.numerical)\n",
    "\n",
    "df_expd.set_unit([\"EXPNMO\"], \"month\")\n",
    "df_expd.set_unit([\"COST\"], \"cost\")\n",
    "\n",
    "# -----------------------------------------------------------------------------\n",
    "# Make newid a join key.\n",
    "\n",
    "df_expd.set_role(\"NEWID\", roles.join_key)\n",
    "\n",
    "# -----------------------------------------------------------------------------\n",
    "# Remove all entries, for which EXPNYR or EXPNYR are nan.\n",
    "\n",
    "expnyr = df_expd[\"EXPNYR\"]\n",
    "expnmo = df_expd[\"EXPNMO\"]\n",
    "\n",
    "not_nan = (expnyr.is_nan() | expnmo.is_nan()).is_false()\n",
    "\n",
    "df_expd = df_expd.where(\"EXPD\", not_nan)\n",
    "\n",
    "# -----------------------------------------------------------------------------\n",
    "# Generate time stamps.\n",
    "\n",
    "expnyr = df_expd[\"EXPNYR\"]\n",
    "expnmo = df_expd[\"EXPNMO\"]\n",
    "\n",
    "ts = (expnyr.as_str() + \"/\" + expnmo.as_str()).as_ts([\"%Y/%n\"])\n",
    "\n",
    "df_expd.add(ts, \"TIME_STAMP\", roles.time_stamp)\n"
   ]
  },
  {
   "cell_type": "markdown",
   "metadata": {},
   "source": [
    "The next part requires some more explanation: As we mentioned earlier, the UCC is based on a **hierarchical system of classification**.\n",
    "\n",
    "We make use of that fact and create a bunch of substrings. **UCC1** contains only the **first digit**, **UCC2** the **first two digits** and so on. This will also create units with the same name as the column name:"
   ]
  },
  {
   "cell_type": "code",
   "execution_count": 9,
   "metadata": {},
   "outputs": [],
   "source": [
    "ucc = df_expd[\"UCC\"]\n",
    "\n",
    "for i in range(5):\n",
    "    substr = ucc.substr(0, i+1)\n",
    "    df_expd.add(\n",
    "            substr, \n",
    "            name=\"UCC\" + str(i+1),\n",
    "            role=roles.categorical,\n",
    "            unit=\"UCC\" + str(i+1))\n",
    "\n",
    "df_expd.set_role(\"UCC\", roles.categorical)\n",
    "df_expd.set_unit(\"UCC\", \"UCC\")"
   ]
  },
  {
   "cell_type": "markdown",
   "metadata": {},
   "source": [
    "We're done with EXPD. We can now save our work:"
   ]
  },
  {
   "cell_type": "code",
   "execution_count": 18,
   "metadata": {
    "scrolled": false
   },
   "outputs": [],
   "source": [
    "df_expd = df_expd.save()"
   ]
  },
  {
   "cell_type": "markdown",
   "metadata": {},
   "source": [
    "### MEMD\n",
    "\n",
    "Next, we annotate the columns in MEMD. MEMD contains information on each member of the household. We just pick a couple of columns we find interesting and assign them the role categorical or numerical.\n",
    "\n",
    "Also, we need to tell it that NEWID is our join key."
   ]
  },
  {
   "cell_type": "code",
   "execution_count": 21,
   "metadata": {},
   "outputs": [],
   "source": [
    "df_memd.set_role([\n",
    "    \"MARITAL\",\n",
    "    \"SEX\",\n",
    "    \"EMPLTYPE\",\n",
    "    \"OCCULIST\",\n",
    "    \"WHYNOWRK\",\n",
    "    \"EDUCA\",\n",
    "    \"MEDICARE\",\n",
    "    \"PAYPERD\",\n",
    "    \"RC_WHITE\",\n",
    "    \"RC_BLACK\",\n",
    "    \"RC_ASIAN\",\n",
    "    \"RC_OTHER\",\n",
    "    \"WKSTATUS\"], roles.categorical)\n",
    "\n",
    "df_memd.set_role([\"AGE\", \"WAGEX\"], roles.numerical)\n",
    "\n",
    "df_memd.set_role(\"NEWID\", roles.join_key)\n",
    "\n",
    "df_memd = df_memd.save()\n"
   ]
  },
  {
   "cell_type": "markdown",
   "metadata": {},
   "source": [
    "### POPULATION\n",
    "\n",
    "Our next step is to create the POPULATION table. The POPULATION table defines the statistical population (hence the name) and contains our target variable.\n",
    "\n",
    "We want to predict whether an expenditure was purchased as a gift, so EXPD is a good starting point. However, there is also the FMLD table. FMLD contains demographic information on the household as whole. Because this information is unique for every household, EXPD and FMLD are in a **many-to-one relationship**. We can therefore **directly join FMLD onto EXPD** and do not have extract any features from FMLD.\n",
    "\n",
    "To learn more about joining, check out the **official documentation**:\n",
    "\n",
    "https://docs.getml.com/latest/api/getml.data.DataFrame.html#getml.data.DataFrame.join"
   ]
  },
  {
   "cell_type": "code",
   "execution_count": 19,
   "metadata": {},
   "outputs": [],
   "source": [
    "# -----------------------------------------------------------------------------\n",
    "# Separate EXPD in training, testing, validation set\n",
    "\n",
    "random = df_expd.random()\n",
    "\n",
    "df_population_training = df_expd.where(\"POPULATION_TRAINING\", random <= 0.7)\n",
    "\n",
    "df_population_validation = df_expd.where(\"POPULATION_VALIDATION\", (random <= 0.85) & (random > 0.7))\n",
    "\n",
    "df_population_testing = df_expd.where(\"POPULATION_TESTING\", random > 0.85)\n",
    "\n",
    "# -----------------------------------------------------------------------------------------------\n",
    "# NEWID in FMLD is unique - therefore, we can just LEFT JOIN it onto the POPULATION tables. \n",
    "\n",
    "income_ranks = [\n",
    "    \"INC_RANK\",\n",
    "    \"INC_RNK1\",\n",
    "    \"INC_RNK2\",\n",
    "    \"INC_RNK3\",\n",
    "    \"INC_RNK4\",\n",
    "    \"INC_RNK5\",\n",
    "    \"INC_RNKM\"\n",
    "]\n",
    "\n",
    "df_fmld.set_role(income_ranks, roles.numerical)\n",
    "\n",
    "for inc in income_ranks:\n",
    "    df_fmld.set_unit(inc, inc)\n",
    "\n",
    "df_fmld.set_role(\"NEWID\", roles.join_key)\n",
    "\n",
    "df_population_training = df_population_training.join(\n",
    "        name=\"POPULATION_TRAINING\", \n",
    "        other=df_fmld, \n",
    "        join_key=\"NEWID\",\n",
    "        other_cols=[\n",
    "            df_fmld[\"INC_RANK\"],\n",
    "            df_fmld[\"INC_RNK1\"],\n",
    "            df_fmld[\"INC_RNK2\"],\n",
    "            df_fmld[\"INC_RNK3\"],\n",
    "            df_fmld[\"INC_RNK4\"],\n",
    "            df_fmld[\"INC_RNK5\"],\n",
    "            df_fmld[\"INC_RNKM\"]\n",
    "        ]\n",
    ")\n",
    "\n",
    "df_population_validation = df_population_validation.join(\n",
    "        name=\"POPULATION_VALIDATION\", \n",
    "        other=df_fmld, \n",
    "        join_key=\"NEWID\",\n",
    "        other_cols=[\n",
    "            df_fmld[\"INC_RANK\"],\n",
    "            df_fmld[\"INC_RNK1\"],\n",
    "            df_fmld[\"INC_RNK2\"],\n",
    "            df_fmld[\"INC_RNK3\"],\n",
    "            df_fmld[\"INC_RNK4\"],\n",
    "            df_fmld[\"INC_RNK5\"],\n",
    "            df_fmld[\"INC_RNKM\"]\n",
    "        ]\n",
    ")\n",
    "\n",
    "df_population_testing = df_population_testing.join(\n",
    "        name=\"POPULATION_TESTING\", \n",
    "        other=df_fmld, \n",
    "        join_key=\"NEWID\",\n",
    "        other_cols=[\n",
    "            df_fmld[\"INC_RANK\"],\n",
    "            df_fmld[\"INC_RNK1\"],\n",
    "            df_fmld[\"INC_RNK2\"],\n",
    "            df_fmld[\"INC_RNK3\"],\n",
    "            df_fmld[\"INC_RNK4\"],\n",
    "            df_fmld[\"INC_RNK5\"],\n",
    "            df_fmld[\"INC_RNKM\"]\n",
    "        ]\n",
    ")\n",
    "\n",
    "# -----------------------------------------------------------------------------------------------\n",
    "\n",
    "df_population_training = df_population_training.save()\n",
    "\n",
    "df_population_validation = df_population_validation.save()\n",
    "\n",
    "df_population_testing = df_population_testing.save()\n"
   ]
  },
  {
   "cell_type": "markdown",
   "metadata": {},
   "source": [
    "## Extracting the features\n",
    "\n",
    "Enough with the data preparation. Let's get to the fun part: Extracting the features using **relational boosting**.\n",
    "\n",
    "### Defining the data model\n",
    "\n",
    "First, we define the data model.\n",
    "\n",
    "What we want to do is the following: \n",
    "\n",
    "1. We want to compare every expenditure made to all **previous expenditures by the same household** (EXPD).\n",
    "\n",
    "2. We want to aggregate all available information on the **individual members of the household** (MEMD).\n",
    "\n",
    "![alt text](data-model.png \"data model\")\n"
   ]
  },
  {
   "cell_type": "code",
   "execution_count": 13,
   "metadata": {},
   "outputs": [],
   "source": [
    "population_placeholder = placeholder.Placeholder(\"POPULATION\")\n",
    "\n",
    "expd_placeholder = placeholder.Placeholder(\"EXPD\")\n",
    "\n",
    "memd_placeholder = placeholder.Placeholder(\"MEMD\")\n",
    "\n",
    "population_placeholder.join(\n",
    "    expd_placeholder,\n",
    "    join_key=\"NEWID\",\n",
    "    time_stamp=\"TIME_STAMP\"\n",
    ")\n",
    "\n",
    "population_placeholder.join(\n",
    "    memd_placeholder,\n",
    "    join_key=\"NEWID\"\n",
    ")"
   ]
  },
  {
   "cell_type": "markdown",
   "metadata": {},
   "source": [
    "### Setting the hyperparameters\n",
    "\n",
    "We use **xgboost** as our predictor and **relboost** (short for relational boosting) to generate our features. You are free to play with the hyperparameters.\n",
    "\n",
    "To learn more about the hyperparameters, check out the **official documentation**:\n",
    "\n",
    "https://docs.getml.com/latest/api/getml.models.RelboostModel.html#getml.models.RelboostModel\n",
    "\n",
    "https://docs.getml.com/latest/api/getml.predictors.XGBoostClassifier.html#getml.predictors.XGBoostClassifier"
   ]
  },
  {
   "cell_type": "code",
   "execution_count": 14,
   "metadata": {},
   "outputs": [],
   "source": [
    "predictor = predictors.XGBoostClassifier(\n",
    "    booster=\"gbtree\",\n",
    "    n_estimators=100,\n",
    "    n_jobs=6,\n",
    "    max_depth=7,\n",
    "    reg_lambda=0.0\n",
    ")\n",
    "\n",
    "model = models.RelboostModel(\n",
    "    population=population_placeholder,\n",
    "    peripheral=[expd_placeholder, memd_placeholder],\n",
    "    loss_function=loss_functions.CrossEntropyLoss(),\n",
    "    shrinkage=0.1,\n",
    "    min_num_samples=200,\n",
    "    num_features=20,\n",
    "    predictor=predictor,\n",
    "    include_categorical=True\n",
    ")"
   ]
  },
  {
   "cell_type": "markdown",
   "metadata": {},
   "source": [
    "### Fitting the model\n",
    "\n",
    "OK, let's go:"
   ]
  },
  {
   "cell_type": "code",
   "execution_count": 15,
   "metadata": {},
   "outputs": [
    {
     "name": "stdout",
     "output_type": "stream",
     "text": [
      "Loaded data. Features are now being trained...\n",
      "Trained model.\n",
      "Time taken: 0h:7m:52.608328\n",
      "\n"
     ]
    }
   ],
   "source": [
    "model = model.fit(\n",
    "    population_table=df_population_training,\n",
    "    peripheral_tables=[df_expd, df_memd]\n",
    ")"
   ]
  },
  {
   "cell_type": "markdown",
   "metadata": {},
   "source": [
    "### Scoring the model\n",
    "\n",
    "We want to know how well we did. We will to an in-sample and an out-of-sample evaluation:"
   ]
  },
  {
   "cell_type": "code",
   "execution_count": 16,
   "metadata": {},
   "outputs": [
    {
     "name": "stdout",
     "output_type": "stream",
     "text": [
      "In-sample:\n",
      "{'accuracy': [0.9853041903498234], 'auc': [0.9614690327986333], 'cross_entropy': [0.053243525274554004]}\n",
      "\n",
      "Out-of-sample:\n",
      "{'accuracy': [0.9810605427974948], 'auc': [0.9093526416770293], 'cross_entropy': [0.06733930534674173]}\n",
      "\n"
     ]
    }
   ],
   "source": [
    "scores = model.score(\n",
    "    population_table=df_population_training,\n",
    "    peripheral_tables=[df_expd, df_memd]\n",
    ")\n",
    "\n",
    "print(\"In-sample:\")\n",
    "print(scores)\n",
    "print()\n",
    "\n",
    "scores = model.score(\n",
    "    population_table=df_population_validation,\n",
    "    peripheral_tables=[df_expd, df_memd]\n",
    ")\n",
    "\n",
    "print(\"Out-of-sample:\")\n",
    "print(scores)\n",
    "print()"
   ]
  },
  {
   "cell_type": "markdown",
   "metadata": {},
   "source": [
    "There you go. We just got an **out-of-sample AUC of almost 91%**."
   ]
  },
  {
   "cell_type": "markdown",
   "metadata": {},
   "source": [
    "## Studying the features\n",
    "\n",
    "It is very important that we get an idea about the features that the relational boosting algorithm has produced.\n",
    "\n",
    "We can look at them in the getML monitor by going to the \"Models\" view, clicking on the name of the model in the \"Models\" table and then clicking on the name of the feature in the \"Features\" table.\n",
    "\n",
    "We cannot look at all of the features, so will just checkout the most important one.\n",
    "\n",
    "![alt text](feature_2.png \"feature_2\")\n",
    "\n",
    "FEATURE_2 has a correlation of just over 20.5% with the targets and accounts for about 16% of the overall predictive power.\n",
    "\n",
    "Here is the SQL code for this feature:"
   ]
  },
  {
   "cell_type": "markdown",
   "metadata": {},
   "source": [
    "```sql\n",
    "CREATE TABLE FEATURE_2 AS\n",
    "SELECT AVG( \n",
    "    CASE\n",
    "        WHEN ( t1.UCC3 IN ( '010', '060', '090', '110', '120', '130', '140', '160', '170', '180', '190', '290', '330', '550', '620', '640', '650', '020', '030', '080', '100', '150', '280', '470', '630', '260', '270', '040', '220', '560', '070', '050', '240', '310', '350', '400', '500', '200', '380', '250', '520', '490', '540', '690', '580', '480', '670', '002', '680', '590', '210', '009', '530', '230', '440', '570', '999' ) ) AND ( t1.UCC IN ( '010210', '060110', '060210', '090110', '090210', '110410', '110510', '120110', '120310', '120410', '130212', '130310', '130320', '140110', '160211', '170110', '170210', '180310', '180320', '180410', '190111', '190211', '550210', '620912', '650210', '020110', '020210', '020310', '020610', '020620', '020710', '020810', '030110', '030710', '080110', '100410', '100510', '110110', '110210', '170520', '170532', '180220', '180420', '180510', '180710', '280120', '330210', '190112', '190113', '330110', '470111', '630110', '190313', '260110', '270000', '040310', '120210', '190114', '190212', '190321', '270310', '560110', '070240', '140210', '190311', '190322', '260210', '040110', '070230', '100110', '140220', '330310', '030610', '050210', '160110', '160310', '170310', '170531', '470211', '020510', '140230', '350110', '500110', '030810', '040210', '040410', '040510', '050110', '050310', '060310', '160320', '170410', '180110', '170533', '190324', '250210', '270210', '310352', '520531', '550310', '150212', '180611', '180612', '280140', '490312', '690120', '030410', '070110', '150211', '170510', '400110', '190312', '200512', '200532', '670310', '670903', '002100', '590230', '180210', '380340', '480212', '110310', '270410', '240210', '620310', '130211', '140340', '200522', '470220', '250900', '580000', '009000', '190314', '210210', '130121', '190214', '490300', '010310', '530311', '560210', '240310', '630210', '310316', '200511', '220120', '230110', '440210', '140330', '690110', '130122', '670902', '030210', '330610', '380210', '380420', '440120', '550320', '240110', '520110', '180620', '620410', '620221', '550330', '620810', '030310', '690114', '680220', '050410', '280110', '680903', '590210', '240120', '490313', '560330', '230900', '380320', '190323', '620420', '530110', '550110', '190213', '310332', '620213', '220210', '999900', '290410', '560400', '290440', '620320', '310232', '570000', '630220', '470112' ) ) AND ( t2.UCC IN ( '110410', '110510', '120310', '130212', '140110', '170110', '180320', '190111', '190211', '330510', '360210', '550210', '620912', '640110', '010120', '020110', '020310', '020810', '020820', '030710', '100510', '110110', '140420', '170520', '180220', '180420', '180510', '280120', '320370', '190112', '190113', '630110', '190313', '260110', '270000', '120210', '190114', '190212', '190321', '270310', '370213', '610310', '070240', '140210', '190311', '260210', '040110', '070230', '140220', '330310', '010320', '030610', '050210', '160110', '170531', '470211', '240320', '400210', '500110', '640310', '660000', '030810', '040210', '040410', '040510', '050110', '050310', '060310', '170410', '180110', '370125', '600210', '640210', '170533', '190324', '270210', '310352', '320904', '340510', '370211', '550310', '340110', '030410', '070110', '130110', '320420', '400110', '480213', '190312', '200512', '200532', '340410', '390310', '390321', '390322', '420115', '640410', '670310', '590230', '210110', '180210', '480212', '610320', '640220', '110310', '030510', '320330', '620310', '130211', '140340', '200410', '320130', '380333', '400310', '200522', '470220', '360311', '360312', '360330', '250900', '190314', '620121', '190214', '370314', '490300', '010310', '240310', '630210', '620111', '200511', '220120', '230110', '340520', '440210', '590110', '140330', '130122', '390223', '670902', '030210', '330610', '380420', '380901', '340530', '440120', '004190', '550320', '620926', '340210', '610110', '380410', '310220', '320110', '180620', '620410', '620221', '320221', '550330', '370901', '030310', '050410', '280110', '680903', '590210', '640120', '380320', '600420', '620420', '530110', '390230', '550110', '190213', '620213', '999900', '560400', '320521', '310232', '570000', '620510', '320150', '630220', '340310' ) ) THEN -5.128687\n",
    "        WHEN ( t1.UCC3 IN ( '010', '060', '090', '110', '120', '130', '140', '160', '170', '180', '190', '290', '330', '550', '620', '640', '650', '020', '030', '080', '100', '150', '280', '470', '630', '260', '270', '040', '220', '560', '070', '050', '240', '310', '350', '400', '500', '200', '380', '250', '520', '490', '540', '690', '580', '480', '670', '002', '680', '590', '210', '009', '530', '230', '440', '570', '999' ) ) AND ( t1.UCC IN ( '010210', '060110', '060210', '090110', '090210', '110410', '110510', '120110', '120310', '120410', '130212', '130310', '130320', '140110', '160211', '170110', '170210', '180310', '180320', '180410', '190111', '190211', '550210', '620912', '650210', '020110', '020210', '020310', '020610', '020620', '020710', '020810', '030110', '030710', '080110', '100410', '100510', '110110', '110210', '170520', '170532', '180220', '180420', '180510', '180710', '280120', '330210', '190112', '190113', '330110', '470111', '630110', '190313', '260110', '270000', '040310', '120210', '190114', '190212', '190321', '270310', '560110', '070240', '140210', '190311', '190322', '260210', '040110', '070230', '100110', '140220', '330310', '030610', '050210', '160110', '160310', '170310', '170531', '470211', '020510', '140230', '350110', '500110', '030810', '040210', '040410', '040510', '050110', '050310', '060310', '160320', '170410', '180110', '170533', '190324', '250210', '270210', '310352', '520531', '550310', '150212', '180611', '180612', '280140', '490312', '690120', '030410', '070110', '150211', '170510', '400110', '190312', '200512', '200532', '670310', '670903', '002100', '590230', '180210', '380340', '480212', '110310', '270410', '240210', '620310', '130211', '140340', '200522', '470220', '250900', '580000', '009000', '190314', '210210', '130121', '190214', '490300', '010310', '530311', '560210', '240310', '630210', '310316', '200511', '220120', '230110', '440210', '140330', '690110', '130122', '670902', '030210', '330610', '380210', '380420', '440120', '550320', '240110', '520110', '180620', '620410', '620221', '550330', '620810', '030310', '690114', '680220', '050410', '280110', '680903', '590210', '240120', '490313', '560330', '230900', '380320', '190323', '620420', '530110', '550110', '190213', '310332', '620213', '220210', '999900', '290410', '560400', '290440', '620320', '310232', '570000', '630220', '470112' ) ) AND ( t2.UCC NOT IN ( '110410', '110510', '120310', '130212', '140110', '170110', '180320', '190111', '190211', '330510', '360210', '550210', '620912', '640110', '010120', '020110', '020310', '020810', '020820', '030710', '100510', '110110', '140420', '170520', '180220', '180420', '180510', '280120', '320370', '190112', '190113', '630110', '190313', '260110', '270000', '120210', '190114', '190212', '190321', '270310', '370213', '610310', '070240', '140210', '190311', '260210', '040110', '070230', '140220', '330310', '010320', '030610', '050210', '160110', '170531', '470211', '240320', '400210', '500110', '640310', '660000', '030810', '040210', '040410', '040510', '050110', '050310', '060310', '170410', '180110', '370125', '600210', '640210', '170533', '190324', '270210', '310352', '320904', '340510', '370211', '550310', '340110', '030410', '070110', '130110', '320420', '400110', '480213', '190312', '200512', '200532', '340410', '390310', '390321', '390322', '420115', '640410', '670310', '590230', '210110', '180210', '480212', '610320', '640220', '110310', '030510', '320330', '620310', '130211', '140340', '200410', '320130', '380333', '400310', '200522', '470220', '360311', '360312', '360330', '250900', '190314', '620121', '190214', '370314', '490300', '010310', '240310', '630210', '620111', '200511', '220120', '230110', '340520', '440210', '590110', '140330', '130122', '390223', '670902', '030210', '330610', '380420', '380901', '340530', '440120', '004190', '550320', '620926', '340210', '610110', '380410', '310220', '320110', '180620', '620410', '620221', '320221', '550330', '370901', '030310', '050410', '280110', '680903', '590210', '640120', '380320', '600420', '620420', '530110', '390230', '550110', '190213', '620213', '999900', '560400', '320521', '310232', '570000', '620510', '320150', '630220', '340310' ) ) THEN -2.507103\n",
    "        WHEN ( t1.UCC3 IN ( '010', '060', '090', '110', '120', '130', '140', '160', '170', '180', '190', '290', '330', '550', '620', '640', '650', '020', '030', '080', '100', '150', '280', '470', '630', '260', '270', '040', '220', '560', '070', '050', '240', '310', '350', '400', '500', '200', '380', '250', '520', '490', '540', '690', '580', '480', '670', '002', '680', '590', '210', '009', '530', '230', '440', '570', '999' ) ) AND ( t1.UCC NOT IN ( '010210', '060110', '060210', '090110', '090210', '110410', '110510', '120110', '120310', '120410', '130212', '130310', '130320', '140110', '160211', '170110', '170210', '180310', '180320', '180410', '190111', '190211', '550210', '620912', '650210', '020110', '020210', '020310', '020610', '020620', '020710', '020810', '030110', '030710', '080110', '100410', '100510', '110110', '110210', '170520', '170532', '180220', '180420', '180510', '180710', '280120', '330210', '190112', '190113', '330110', '470111', '630110', '190313', '260110', '270000', '040310', '120210', '190114', '190212', '190321', '270310', '560110', '070240', '140210', '190311', '190322', '260210', '040110', '070230', '100110', '140220', '330310', '030610', '050210', '160110', '160310', '170310', '170531', '470211', '020510', '140230', '350110', '500110', '030810', '040210', '040410', '040510', '050110', '050310', '060310', '160320', '170410', '180110', '170533', '190324', '250210', '270210', '310352', '520531', '550310', '150212', '180611', '180612', '280140', '490312', '690120', '030410', '070110', '150211', '170510', '400110', '190312', '200512', '200532', '670310', '670903', '002100', '590230', '180210', '380340', '480212', '110310', '270410', '240210', '620310', '130211', '140340', '200522', '470220', '250900', '580000', '009000', '190314', '210210', '130121', '190214', '490300', '010310', '530311', '560210', '240310', '630210', '310316', '200511', '220120', '230110', '440210', '140330', '690110', '130122', '670902', '030210', '330610', '380210', '380420', '440120', '550320', '240110', '520110', '180620', '620410', '620221', '550330', '620810', '030310', '690114', '680220', '050410', '280110', '680903', '590210', '240120', '490313', '560330', '230900', '380320', '190323', '620420', '530110', '550110', '190213', '310332', '620213', '220210', '999900', '290410', '560400', '290440', '620320', '310232', '570000', '630220', '470112' ) ) AND ( t2.UCC IN ( '010210', '060110', '060210', '090110', '090210', '110510', '120110', '120310', '130212', '140110', '170110', '170210', '180310', '180410', '330510', '620912', '650210', '010120', '020110', '020310', '020610', '020620', '020710', '020810', '020820', '030110', '030710', '080110', '100210', '100410', '110110', '110210', '140420', '170520', '180220', '180420', '180510', '180710', '280120', '330210', '190113', '330110', '470111', '630110', '190313', '260110', '270000', '040310', '120210', '190114', '190212', '190321', '270310', '610310', '070240', '140210', '040110', '070230', '100110', '140220', '330310', '010320', '020410', '050210', '160310', '170310', '020510', '140230', '240320', '320905', '500110', '640310', '660000', '040210', '040410', '050110', '050310', '060310', '160320', '170410', '180110', '200111', '170533', '190324', '270210', '520531', '340110', '160212', '490312', '540000', '320903', '150211', '170510', '480213', '490000', '420115', '210110', '610320', '640220', '010110', '110310', '130211', '140340', '400310', '200522', '360513', '580000', '009000', '190314', '620121', '010310', '530311', '530210', '620111', '390210', '330610', '380420', '240110', '620926', '310220', '180620' ) ) THEN -6.507490\n",
    "        WHEN ( t1.UCC3 IN ( '010', '060', '090', '110', '120', '130', '140', '160', '170', '180', '190', '290', '330', '550', '620', '640', '650', '020', '030', '080', '100', '150', '280', '470', '630', '260', '270', '040', '220', '560', '070', '050', '240', '310', '350', '400', '500', '200', '380', '250', '520', '490', '540', '690', '580', '480', '670', '002', '680', '590', '210', '009', '530', '230', '440', '570', '999' ) ) AND ( t1.UCC NOT IN ( '010210', '060110', '060210', '090110', '090210', '110410', '110510', '120110', '120310', '120410', '130212', '130310', '130320', '140110', '160211', '170110', '170210', '180310', '180320', '180410', '190111', '190211', '550210', '620912', '650210', '020110', '020210', '020310', '020610', '020620', '020710', '020810', '030110', '030710', '080110', '100410', '100510', '110110', '110210', '170520', '170532', '180220', '180420', '180510', '180710', '280120', '330210', '190112', '190113', '330110', '470111', '630110', '190313', '260110', '270000', '040310', '120210', '190114', '190212', '190321', '270310', '560110', '070240', '140210', '190311', '190322', '260210', '040110', '070230', '100110', '140220', '330310', '030610', '050210', '160110', '160310', '170310', '170531', '470211', '020510', '140230', '350110', '500110', '030810', '040210', '040410', '040510', '050110', '050310', '060310', '160320', '170410', '180110', '170533', '190324', '250210', '270210', '310352', '520531', '550310', '150212', '180611', '180612', '280140', '490312', '690120', '030410', '070110', '150211', '170510', '400110', '190312', '200512', '200532', '670310', '670903', '002100', '590230', '180210', '380340', '480212', '110310', '270410', '240210', '620310', '130211', '140340', '200522', '470220', '250900', '580000', '009000', '190314', '210210', '130121', '190214', '490300', '010310', '530311', '560210', '240310', '630210', '310316', '200511', '220120', '230110', '440210', '140330', '690110', '130122', '670902', '030210', '330610', '380210', '380420', '440120', '550320', '240110', '520110', '180620', '620410', '620221', '550330', '620810', '030310', '690114', '680220', '050410', '280110', '680903', '590210', '240120', '490313', '560330', '230900', '380320', '190323', '620420', '530110', '550110', '190213', '310332', '620213', '220210', '999900', '290410', '560400', '290440', '620320', '310232', '570000', '630220', '470112' ) ) AND ( t2.UCC NOT IN ( '010210', '060110', '060210', '090110', '090210', '110510', '120110', '120310', '130212', '140110', '170110', '170210', '180310', '180410', '330510', '620912', '650210', '010120', '020110', '020310', '020610', '020620', '020710', '020810', '020820', '030110', '030710', '080110', '100210', '100410', '110110', '110210', '140420', '170520', '180220', '180420', '180510', '180710', '280120', '330210', '190113', '330110', '470111', '630110', '190313', '260110', '270000', '040310', '120210', '190114', '190212', '190321', '270310', '610310', '070240', '140210', '040110', '070230', '100110', '140220', '330310', '010320', '020410', '050210', '160310', '170310', '020510', '140230', '240320', '320905', '500110', '640310', '660000', '040210', '040410', '050110', '050310', '060310', '160320', '170410', '180110', '200111', '170533', '190324', '270210', '520531', '340110', '160212', '490312', '540000', '320903', '150211', '170510', '480213', '490000', '420115', '210110', '610320', '640220', '010110', '110310', '130211', '140340', '400310', '200522', '360513', '580000', '009000', '190314', '620121', '010310', '530311', '530210', '620111', '390210', '330610', '380420', '240110', '620926', '310220', '180620' ) ) THEN 4.707977\n",
    "        WHEN ( t1.UCC3 NOT IN ( '010', '060', '090', '110', '120', '130', '140', '160', '170', '180', '190', '290', '330', '550', '620', '640', '650', '020', '030', '080', '100', '150', '280', '470', '630', '260', '270', '040', '220', '560', '070', '050', '240', '310', '350', '400', '500', '200', '380', '250', '520', '490', '540', '690', '580', '480', '670', '002', '680', '590', '210', '009', '530', '230', '440', '570', '999' ) ) AND ( t1.UCC5 IN ( '32014', '32041', '32023', '32037', '61031', '32090', '66000', '60021', '32061', '34011', '32042', '32034', '00400', '34041', '34090', '42011', '61032', '36031', '36033', '36042', '36051', '60031', '00410', '34052', '41012', '34053', '32043', '32011', '32022', '39023', '32052', '34031' ) ) AND ( t2.UCC IN ( '060210', '090110', '120110', '170110', '170210', '190211', '330510', '550210', '640110', '020310', '030110', '080110', '150110', '180220', '180710', '190112', '470111', '630110', '270000', '610310', '190322', '330310', '020510', '320905', '640310', '180110', '640210', '610320' ) ) THEN -14.247980\n",
    "        WHEN ( t1.UCC3 NOT IN ( '010', '060', '090', '110', '120', '130', '140', '160', '170', '180', '190', '290', '330', '550', '620', '640', '650', '020', '030', '080', '100', '150', '280', '470', '630', '260', '270', '040', '220', '560', '070', '050', '240', '310', '350', '400', '500', '200', '380', '250', '520', '490', '540', '690', '580', '480', '670', '002', '680', '590', '210', '009', '530', '230', '440', '570', '999' ) ) AND ( t1.UCC5 IN ( '32014', '32041', '32023', '32037', '61031', '32090', '66000', '60021', '32061', '34011', '32042', '32034', '00400', '34041', '34090', '42011', '61032', '36031', '36033', '36042', '36051', '60031', '00410', '34052', '41012', '34053', '32043', '32011', '32022', '39023', '32052', '34031' ) ) AND ( t2.UCC NOT IN ( '060210', '090110', '120110', '170110', '170210', '190211', '330510', '550210', '640110', '020310', '030110', '080110', '150110', '180220', '180710', '190112', '470111', '630110', '270000', '610310', '190322', '330310', '020510', '320905', '640310', '180110', '640210', '610320' ) ) THEN 2.172690\n",
    "        WHEN ( t1.UCC3 NOT IN ( '010', '060', '090', '110', '120', '130', '140', '160', '170', '180', '190', '290', '330', '550', '620', '640', '650', '020', '030', '080', '100', '150', '280', '470', '630', '260', '270', '040', '220', '560', '070', '050', '240', '310', '350', '400', '500', '200', '380', '250', '520', '490', '540', '690', '580', '480', '670', '002', '680', '590', '210', '009', '530', '230', '440', '570', '999' ) ) AND ( t1.UCC5 NOT IN ( '32014', '32041', '32023', '32037', '61031', '32090', '66000', '60021', '32061', '34011', '32042', '32034', '00400', '34041', '34090', '42011', '61032', '36031', '36033', '36042', '36051', '60031', '00410', '34052', '41012', '34053', '32043', '32011', '32022', '39023', '32052', '34031' ) ) AND ( t1.INC_RNK4 > 0.057071 ) THEN 3.502799\n",
    "        WHEN ( t1.UCC3 NOT IN ( '010', '060', '090', '110', '120', '130', '140', '160', '170', '180', '190', '290', '330', '550', '620', '640', '650', '020', '030', '080', '100', '150', '280', '470', '630', '260', '270', '040', '220', '560', '070', '050', '240', '310', '350', '400', '500', '200', '380', '250', '520', '490', '540', '690', '580', '480', '670', '002', '680', '590', '210', '009', '530', '230', '440', '570', '999' ) ) AND ( t1.UCC5 NOT IN ( '32014', '32041', '32023', '32037', '61031', '32090', '66000', '60021', '32061', '34011', '32042', '32034', '00400', '34041', '34090', '42011', '61032', '36031', '36033', '36042', '36051', '60031', '00410', '34052', '41012', '34053', '32043', '32011', '32022', '39023', '32052', '34031' ) ) AND ( t1.INC_RNK4 <= 0.057071 OR t1.INC_RNK4 IS NULL ) THEN 20.811932\n",
    "        ELSE NULL\n",
    "    END\n",
    ") AS feature_2,\n",
    "     t1.NEWID,\n",
    "     t1.TIME_STAMP\n",
    "FROM (\n",
    "    SELECT *,\n",
    "        ROW_NUMBER() OVER ( ORDER BY NEWID, TIME_STAMP ASC ) AS rownum\n",
    "    FROM POPULATION\n",
    ") t1\n",
    "LEFT JOIN EXPD t2\n",
    "ON t1.NEWID = t2.NEWID\n",
    "WHERE t2.TIME_STAMP <= t1.TIME_STAMP\n",
    "GROUP BY t1.rownum,\n",
    "         t1.NEWID,\n",
    "         t1.TIME_STAMP;```\n"
   ]
  },
  {
   "cell_type": "markdown",
   "metadata": {},
   "source": [
    "There are a two things we can learn from this:\n",
    "\n",
    "1. This feature is mainly based on the UCC codes. Not only on the UCC codes of the product in question (marked t1.UCC), but it also compares the UCC code to other products that the household has purchased (marked t2.UCC). This means that both the **product itself**, but also the **household's usual consumption patterns** predict whether this item was purchased as a gift.\n",
    "\n",
    "2. It should also be fairly obvious that you could have never written a feature like this manually or by using brute-force approaches. You need to use **relational learning algorithms** to produce features like this. If there is one thing you take away from this, let it be this: **Relational learning matters.**"
   ]
  },
  {
   "cell_type": "markdown",
   "metadata": {},
   "source": [
    "# Conclusion\n",
    "\n",
    "In this notebook, we have shown how you can use relational learning to predict whether items were purchased as a gift. We did this to highlight the **importance of relational learning**. Relational learning can be used in many real-world data science applications, but unfortunately most data scientists don't even know what relation learning is.\n",
    "\n",
    "If you want to learn more about getML in specific, check out the **official documentation**:\n",
    "\n",
    "https://docs.getml.com/latest/index.html\n",
    "\n",
    "You can also **download it for free**:\n",
    "\n",
    "https://getml.com/product\n"
   ]
  },
  {
   "cell_type": "code",
   "execution_count": null,
   "metadata": {},
   "outputs": [],
   "source": []
  }
 ],
 "metadata": {
  "kernelspec": {
   "display_name": "Python 3",
   "language": "python",
   "name": "python3"
  },
  "language_info": {
   "codemirror_mode": {
    "name": "ipython",
    "version": 3
   },
   "file_extension": ".py",
   "mimetype": "text/x-python",
   "name": "python",
   "nbconvert_exporter": "python",
   "pygments_lexer": "ipython3",
   "version": "3.6.8"
  }
 },
 "nbformat": 4,
 "nbformat_minor": 2
}
